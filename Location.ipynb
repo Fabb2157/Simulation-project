{
 "cells": [
  {
   "cell_type": "code",
   "execution_count": 1,
   "metadata": {},
   "outputs": [],
   "source": [
    "class Localisation:\n",
    "    def __init__(self,country, situation):\n",
    "        self.country = country\n",
    "        self.situation = situation\n",
    "\n",
    "\n",
    "# Getters \n",
    "    def get_pays(self):\n",
    "        return self.country\n",
    "\n",
    "    def get_situation(self):\n",
    "        return self.situation\n",
    "\n",
    "# setters \n",
    "    def set_pays(self, country):\n",
    "        self.country = country\n",
    "    \n",
    "    def habiter(self):\n",
    "        print(\"Live in \" , self.situation)"
   ]
  },
  {
   "cell_type": "code",
   "execution_count": null,
   "metadata": {},
   "outputs": [],
   "source": []
  }
 ],
 "metadata": {
  "kernelspec": {
   "display_name": "Python 3",
   "language": "python",
   "name": "python3"
  },
  "language_info": {
   "codemirror_mode": {
    "name": "ipython",
    "version": 3
   },
   "file_extension": ".py",
   "mimetype": "text/x-python",
   "name": "python",
   "nbconvert_exporter": "python",
   "pygments_lexer": "ipython3",
   "version": "3.7.6"
  }
 },
 "nbformat": 4,
 "nbformat_minor": 4
}
