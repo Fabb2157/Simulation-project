{
 "cells": [
  {
   "cell_type": "code",
   "execution_count": 1,
   "metadata": {},
   "outputs": [],
   "source": [
    "from enum import Enum\n",
    "class Foyer_profil(Enum):\n",
    "    A = 1\n",
    "    B = 2\n",
    "    C = 3\n",
    "    D = 4\n",
    "    Ev = 5\n",
    "    Evp = 6\n",
    "\n",
    "\n",
    "class Community_profil(Enum):\n",
    "    E = 1\n",
    "    S = 2\n",
    "    Br = 3\n",
    "    Z = 4\n",
    "\n",
    "#print(Collectivite_profil(4).name)\n",
    "    \n",
    "        "
   ]
  },
  {
   "cell_type": "code",
   "execution_count": null,
   "metadata": {},
   "outputs": [],
   "source": []
  }
 ],
 "metadata": {
  "kernelspec": {
   "display_name": "Python 3",
   "language": "python",
   "name": "python3"
  },
  "language_info": {
   "codemirror_mode": {
    "name": "ipython",
    "version": 3
   },
   "file_extension": ".py",
   "mimetype": "text/x-python",
   "name": "python",
   "nbconvert_exporter": "python",
   "pygments_lexer": "ipython3",
   "version": "3.7.6"
  }
 },
 "nbformat": 4,
 "nbformat_minor": 4
}
